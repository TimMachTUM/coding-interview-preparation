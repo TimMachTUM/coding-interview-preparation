{
 "cells": [
  {
   "cell_type": "markdown",
   "metadata": {},
   "source": [
    "# Stack\n",
    "\n",
    "## Stack Overview\n",
    "\n",
    "### Definition\n",
    "- A stack is a linear data structure that stores items in a Last-In/First-Out (LIFO) or First-In/Last-Out (FILO) manner.\n",
    "- Operations are performed at one end, referred to as the top of the stack.\n",
    "\n",
    "### Key Operations\n",
    "- **Push**: Adds an item to the top of the stack.\n",
    "- **Pop**: Removes and returns the item at the top of the stack.\n",
    "- **Peek** or **Top**: Returns the item at the top of the stack without removing it.\n",
    "- **isEmpty**: Checks if the stack is empty.\n",
    "\n",
    "### Use Cases\n",
    "- Undo mechanisms in text editors.\n",
    "- Function call management in programming languages.\n",
    "- Syntax parsing in compilers.\n",
    "\n",
    "### Example\n",
    "A stack of plates; the last plate put on the stack is the first one to be taken off.\n",
    "\n",
    "---\n",
    "\n",
    "## Easy"
   ]
  },
  {
   "cell_type": "code",
   "execution_count": null,
   "metadata": {},
   "outputs": [],
   "source": [
    "# https://leetcode.com/problems/valid-parentheses/description/\n",
    "class Solution:\n",
    "    def isValid(self, s: str) -> bool:\n",
    "        stack = []\n",
    "\n",
    "        for i in s:\n",
    "            if i == '(' or i=='[' or i=='{':\n",
    "                stack.append(i)\n",
    "            elif len(stack) == 0:\n",
    "                return False\n",
    "            elif i == ')':\n",
    "                bracket = stack.pop(len(stack)-1)\n",
    "                if bracket != '(':\n",
    "                    return False \n",
    "            elif i == ']':\n",
    "                bracket = stack.pop(len(stack)-1)\n",
    "                if bracket != '[':\n",
    "                    return False \n",
    "            elif i == '}':\n",
    "                bracket = stack.pop(len(stack)-1)\n",
    "                if bracket != '{':\n",
    "                    return False \n",
    "        return len(stack) == 0\n",
    "        "
   ]
  },
  {
   "cell_type": "markdown",
   "metadata": {},
   "source": [
    "## Medium"
   ]
  },
  {
   "cell_type": "code",
   "execution_count": null,
   "metadata": {},
   "outputs": [],
   "source": [
    "# https://leetcode.com/problems/evaluate-reverse-polish-notation/\n",
    "import re\n",
    "\n",
    "class Solution:\n",
    "    def evalRPN(self, tokens: List[str]) -> int:\n",
    "        def is_digit(s):\n",
    "            return re.search('\\d', s) is not None\n",
    "        def calculate(left, right, operator):\n",
    "            if operator == '+':\n",
    "                return int(left + right)\n",
    "            if operator == '-':\n",
    "                return int(left - right)\n",
    "            if operator == '*':\n",
    "                return int(left * right)\n",
    "            if operator == '/':\n",
    "                return int(left / right)\n",
    "        stack = []\n",
    "        for token in tokens:\n",
    "            if is_digit(token):\n",
    "                stack.append(int(token))\n",
    "            else:\n",
    "                right = stack.pop()\n",
    "                left = stack.pop()\n",
    "                temp = calculate(left, right, token)\n",
    "                stack.append(temp)\n",
    "        return stack[-1]"
   ]
  },
  {
   "cell_type": "code",
   "execution_count": null,
   "metadata": {},
   "outputs": [],
   "source": [
    "# https://leetcode.com/problems/daily-temperatures/description/\n",
    "class Solution:\n",
    "    def dailyTemperatures(self, temperatures: List[int]) -> List[int]:\n",
    "        stack = []\n",
    "        result = [0 for _ in temperatures]\n",
    "        for i, temp in enumerate(temperatures):\n",
    "            while stack:\n",
    "                if stack[-1][1] < temp:    \n",
    "                    index, _ = stack.pop()\n",
    "                    result[index] = i - index\n",
    "                else:\n",
    "                    break\n",
    "            stack.append((i, temp))\n",
    "        return result"
   ]
  }
 ],
 "metadata": {
  "language_info": {
   "name": "python"
  }
 },
 "nbformat": 4,
 "nbformat_minor": 2
}
