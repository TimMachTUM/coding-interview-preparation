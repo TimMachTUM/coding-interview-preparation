{
 "cells": [
  {
   "cell_type": "markdown",
   "metadata": {},
   "source": [
    "# Array\n",
    "## Easy"
   ]
  },
  {
   "cell_type": "code",
   "execution_count": null,
   "metadata": {},
   "outputs": [],
   "source": [
    "# https://leetcode.com/problems/two-sum/description/\n",
    "class Solution:\n",
    "    def twoSum(self, nums: List[int], target: int) -> List[int]:\n",
    "        n = len(nums)\n",
    "        for i in range(0, n):\n",
    "            for j in range(i + 1, n):\n",
    "                if nums[i] + nums[j] == target:\n",
    "                    return [i, j]"
   ]
  },
  {
   "cell_type": "code",
   "execution_count": null,
   "metadata": {},
   "outputs": [],
   "source": [
    "# https://leetcode.com/problems/minimum-time-visiting-all-points/description/\n",
    "class Solution:\n",
    "    def minTimeToVisitAllPoints(self, points: List[List[int]]) -> int:\n",
    "        n = len(points)\n",
    "        distance = 0\n",
    "        if n == 1:\n",
    "            return 0\n",
    "        for i in range(n-1):\n",
    "            x = abs(points[i][0] - points[i+1][0])\n",
    "            y = abs(points[i][1] - points[i+1][1])\n",
    "            diagonal_moves = min(x,y)\n",
    "            remaining_moves = y - diagonal_moves if x < y else x - diagonal_moves\n",
    "            distance += (diagonal_moves + remaining_moves)\n",
    "        return distance"
   ]
  },
  {
   "cell_type": "code",
   "execution_count": null,
   "metadata": {},
   "outputs": [],
   "source": [
    "# https://leetcode.com/problems/remove-duplicates-from-sorted-array/description/\n",
    "class Solution:\n",
    "    def removeDuplicates(self, nums: List[int]) -> int:\n",
    "        n = len(nums)\n",
    "        if n < 2:\n",
    "            return n\n",
    "        j = 1\n",
    "        for i in range(n- 1):\n",
    "            if nums[i] != nums[i+1]:\n",
    "                nums[j] = nums[i+1]\n",
    "                j+=1\n",
    "        return j"
   ]
  },
  {
   "cell_type": "code",
   "execution_count": null,
   "metadata": {},
   "outputs": [],
   "source": [
    "# https://leetcode.com/problems/remove-element/\n",
    "class Solution(object):\n",
    "    def removeElement(self, nums, val):\n",
    "        \"\"\"\n",
    "        :type nums: List[int]\n",
    "        :type val: int\n",
    "        :rtype: int\n",
    "        \"\"\"\n",
    "        k = 0\n",
    "        for i,v in enumerate(nums):\n",
    "            if v == val:\n",
    "                nums[i] = -1\n",
    "            else:\n",
    "                k +=1\n",
    "        nums.sort(reverse=True)\n",
    "        return k"
   ]
  },
  {
   "cell_type": "code",
   "execution_count": null,
   "metadata": {},
   "outputs": [],
   "source": [
    "# https://leetcode.com/problems/image-smoother/description/\n",
    "class Solution:\n",
    "    def imageSmoother(self, img: List[List[int]]) -> List[List[int]]:\n",
    "        m = len(img)\n",
    "        n = len(img[0])\n",
    "        smooth = [[0]*n for _ in range(m)]\n",
    "        for y in range(m):\n",
    "            for x in range(n):\n",
    "                x_left, x_right = max(0,x-1), min(n-1, x+1)\n",
    "                y_top, y_bottom = max(0, y-1), min(m-1, y+1)\n",
    "                row = x_right - x_left + 1\n",
    "                count = 0\n",
    "                smoothed_value = 0\n",
    "                for i in range(y_top, y_bottom+1):\n",
    "                    count += row\n",
    "                    smoothed_value += sum(img[i][x_left:x_right+1])\n",
    "                smoothed_value /= count\n",
    "                smooth[y][x] = int(smoothed_value)\n",
    "\n",
    "        return smooth"
   ]
  },
  {
   "cell_type": "code",
   "execution_count": null,
   "metadata": {},
   "outputs": [],
   "source": [
    "# https://leetcode.com/problems/buy-two-chocolates/description/\n",
    "class Solution:\n",
    "    def buyChoco(self, prices: List[int], money: int) -> int:\n",
    "        price_copy = prices[::]\n",
    "        price_copy.sort()\n",
    "        choco1 = price_copy[0]\n",
    "        choco2 = price_copy[1]\n",
    "        rest = money - choco1 -choco2\n",
    "        if rest >= 0:\n",
    "            return rest\n",
    "        return money"
   ]
  },
  {
   "cell_type": "code",
   "execution_count": null,
   "metadata": {},
   "outputs": [],
   "source": [
    "# https://leetcode.com/problems/plus-one/description/\n",
    "class Solution:\n",
    "    def plusOne(self, digits: List[int]) -> List[int]:\n",
    "        result = []\n",
    "        temp = 0\n",
    "        n = len(digits)-1\n",
    "        for i, digit in enumerate(digits):\n",
    "            temp += digit * 10**(n-i)\n",
    "        temp += 1\n",
    "        for i in str(temp):\n",
    "            result.append(int(i))\n",
    "\n",
    "        return result"
   ]
  },
  {
   "cell_type": "code",
   "execution_count": null,
   "metadata": {},
   "outputs": [],
   "source": [
    "# https://leetcode.com/problems/widest-vertical-area-between-two-points-containing-no-points/\n",
    "class Solution:\n",
    "    def maxWidthOfVerticalArea(self, points: List[List[int]]) -> int:\n",
    "        projection = set()\n",
    "        for point in points:\n",
    "            projection.add(point[0])\n",
    "        projection = sorted(projection)\n",
    "        \n",
    "        n = len(projection)\n",
    "        l,r = 0,n-1 - 1\n",
    "        widest_area = 0\n",
    "        while l < r:\n",
    "            widest_area = max(widest_area, abs(projection[l+1]-projection[l]), abs(projection[r]-projection[r-1]))\n",
    "            l += 1\n",
    "            r -= 1\n",
    "        return widest_area"
   ]
  },
  {
   "cell_type": "code",
   "execution_count": null,
   "metadata": {},
   "outputs": [],
   "source": [
    "# https://leetcode.com/problems/maximum-score-after-splitting-a-string/description/\n",
    "class Solution:\n",
    "    def maxScore(self, s: str) -> int:\n",
    "        score = 0\n",
    "        for i in range(len(s)-1):\n",
    "            left = s[:i+1]\n",
    "            right = s[i+1:]\n",
    "            score = max(score, left.count('0')+right.count('1'))\n",
    "        return score"
   ]
  },
  {
   "cell_type": "code",
   "execution_count": null,
   "metadata": {},
   "outputs": [],
   "source": [
    "# https://leetcode.com/problems/unique-number-of-occurrences/description/\n",
    "\n",
    "import collections\n",
    "\n",
    "class Solution:\n",
    "    def uniqueOccurrences(self, arr: List[int]) -> bool:\n",
    "        count_occ = collections.Counter(arr)\n",
    "        count = len({v for _,v in count_occ.items()})\n",
    "        return count == len(count_occ)"
   ]
  },
  {
   "cell_type": "code",
   "execution_count": null,
   "metadata": {},
   "outputs": [],
   "source": [
    "# https://leetcode.com/problems/set-mismatch/description/\n",
    "class Solution:\n",
    "    def findErrorNums(self, nums: List[int]) -> List[int]:\n",
    "        num_set = set()\n",
    "        missing_num = -1\n",
    "        incorrect_num = -1\n",
    "        for i, j in zip(nums, range(1, len(nums)+1)):\n",
    "            if j not in nums:\n",
    "                missing_num = j\n",
    "            if i in num_set:\n",
    "                incorrect_num = i\n",
    "            num_set.add(i)\n",
    "        return [incorrect_num, missing_num]"
   ]
  },
  {
   "cell_type": "code",
   "execution_count": null,
   "metadata": {},
   "outputs": [],
   "source": [
    "# https://leetcode.com/problems/first-unique-character-in-a-string/description/\n",
    "class Solution:\n",
    "    def firstUniqChar(self, s: str) -> int:\n",
    "        char_dict = {}\n",
    "        char_set = set()\n",
    "        for i,v in enumerate(s):\n",
    "            if v in char_set:\n",
    "                if v in char_dict:\n",
    "                    del char_dict[v]\n",
    "            else:\n",
    "                char_dict[v] = i\n",
    "            char_set.add(v)\n",
    "        if char_dict:\n",
    "            min_key = min(char_dict, key=char_dict.get)\n",
    "            return char_dict[min_key]\n",
    "        return -1"
   ]
  },
  {
   "cell_type": "code",
   "execution_count": null,
   "metadata": {},
   "outputs": [],
   "source": [
    "# https://leetcode.com/problems/missing-number/description/\n",
    "class Solution:\n",
    "    def missingNumber(self, nums: List[int]) -> int:\n",
    "        number_set = set(i for i in nums)\n",
    "        for i in range(len(nums)+1):\n",
    "            if i not in number_set:\n",
    "                return i"
   ]
  },
  {
   "cell_type": "markdown",
   "metadata": {},
   "source": [
    "## Medium"
   ]
  },
  {
   "cell_type": "code",
   "execution_count": null,
   "metadata": {},
   "outputs": [],
   "source": [
    "# https://leetcode.com/problems/arithmetic-subarrays/description/\n",
    "class Solution:\n",
    "    def checkArithmeticSubarrays(self, nums: List[int], l: List[int], r: List[int]) -> List[bool]:\n",
    "        ranges = []\n",
    "        result = []\n",
    "        for i in range(len(l)):\n",
    "            ranges.append((l[i], r[i]))\n",
    "\n",
    "        for r in ranges:\n",
    "            temp = nums[r[0]:r[1]+1].copy()\n",
    "            temp.sort()\n",
    "            result.append(self.isArithmetric(temp))\n",
    "        return result\n",
    "\n",
    "    \n",
    "    def isArithmetric(self, nums):\n",
    "        distance = nums[1]-nums[0]\n",
    "        for i in range(len(nums)-1):\n",
    "            if nums[i+1]-nums[i] != distance:\n",
    "                return False\n",
    "        return True "
   ]
  },
  {
   "cell_type": "code",
   "execution_count": null,
   "metadata": {},
   "outputs": [],
   "source": [
    "# https://leetcode.com/problems/container-with-most-water/\n",
    "class Solution:\n",
    "    def maxArea(self, height: List[int]) -> int:\n",
    "        max_area = 0\n",
    "        n = len(height)\n",
    "        left = 0\n",
    "        right = n-1\n",
    "\n",
    "        while left < right:\n",
    "            area = (right-left)*min(height[left], height[right])\n",
    "            max_area = max(area, max_area)\n",
    "            if height[left] < height[right]:\n",
    "                left+=1\n",
    "            else:\n",
    "                right-=1\n",
    "\n",
    "        return max_area"
   ]
  },
  {
   "cell_type": "code",
   "execution_count": null,
   "metadata": {},
   "outputs": [],
   "source": [
    "# https://leetcode.com/problems/3sum/description/\n",
    "class Solution:\n",
    "    def threeSum(self, nums: List[int]) -> List[List[int]]:\n",
    "        result = []\n",
    "        n = len(nums)\n",
    "        nums.sort()\n",
    "        i,j,k = 0, 1,n - 1\n",
    "        for i in range(n-2):\n",
    "            j = i + 1\n",
    "            k = n - 1\n",
    "            while j < k:\n",
    "                threesum = nums[i] + nums[j] + nums[k]\n",
    "                if threesum < 0:\n",
    "                    j += 1\n",
    "                elif threesum > 0:\n",
    "                    k -= 1\n",
    "                else:\n",
    "                    combination = [nums[i], nums[j], nums[k]]\n",
    "                    combination.sort()\n",
    "                    if combination not in result:\n",
    "                        result.append(combination)\n",
    "                    j += 1 \n",
    "                    k -= 1\n",
    "        return result"
   ]
  },
  {
   "cell_type": "code",
   "execution_count": null,
   "metadata": {},
   "outputs": [],
   "source": [
    "# https://leetcode.com/problems/divide-array-into-arrays-with-max-difference/description/\n",
    "class Solution:\n",
    "    def divideArray(self, nums: List[int], k: int) -> List[List[int]]:\n",
    "        result = []\n",
    "        n = len(nums)\n",
    "        nums.sort()\n",
    "\n",
    "        for i in range(0, n, 3):\n",
    "            if nums[i+2] - nums[i] > k:\n",
    "                return []\n",
    "            else:\n",
    "                result.append([nums[i], nums[i+1], nums[i+2]])\n",
    "        return result"
   ]
  },
  {
   "cell_type": "code",
   "execution_count": null,
   "metadata": {},
   "outputs": [],
   "source": [
    "# https://leetcode.com/problems/group-anagrams/description/\n",
    "class Solution:\n",
    "    def groupAnagrams(self, strs: List[str]) -> List[List[str]]:\n",
    "        groups = {}\n",
    "        for s in strs:\n",
    "            sorted_string = str(sorted(s))\n",
    "            if sorted_string not in groups:\n",
    "                groups[sorted_string] = [s]\n",
    "            else:\n",
    "                groups[sorted_string].append(s)\n",
    "        result = groups.values()\n",
    "        return result"
   ]
  },
  {
   "cell_type": "code",
   "execution_count": null,
   "metadata": {},
   "outputs": [],
   "source": [
    "# https://leetcode.com/problems/sort-characters-by-frequency/description/\n",
    "class Solution:\n",
    "    def frequencySort(self, s: str) -> str:\n",
    "        char_dict = {}\n",
    "        for char in s:\n",
    "            if char not in char_dict:\n",
    "                char_dict[char] = 1\n",
    "            else:\n",
    "                char_dict[char] += 1\n",
    "        sorted_chars = sorted(char_dict, key=lambda x: char_dict[x], reverse=True)\n",
    "        sorted_str = ''\n",
    "        for c in sorted_chars:\n",
    "            sorted_str += (char_dict[c]*c)\n",
    "        return sorted_str"
   ]
  },
  {
   "cell_type": "code",
   "execution_count": null,
   "metadata": {},
   "outputs": [],
   "source": [
    "# https://leetcode.com/problems/bitwise-and-of-numbers-range/\n",
    "class Solution:\n",
    "    def rangeBitwiseAnd(self, left: int, right: int) -> int:\n",
    "        if left == right:\n",
    "            return left\n",
    "        next_largest_power_of_two = (left & (left-1)) <<1\n",
    "        is_power_of_two = False\n",
    "\n",
    "        if next_largest_power_of_two == 0:\n",
    "            next_largest_power_of_two = left << 1\n",
    "            is_power_of_two = True\n",
    "\n",
    "        if right >= next_largest_power_of_two:\n",
    "            return 0\n",
    "\n",
    "        if is_power_of_two:\n",
    "            return left&right\n",
    "            \n",
    "        result = left\n",
    "        for i in range(left+1, min(next_largest_power_of_two, right+1)):\n",
    "            result &= i\n",
    "        return result"
   ]
  }
 ],
 "metadata": {
  "kernelspec": {
   "display_name": ".venv",
   "language": "python",
   "name": "python3"
  },
  "language_info": {
   "codemirror_mode": {
    "name": "ipython",
    "version": 3
   },
   "file_extension": ".py",
   "mimetype": "text/x-python",
   "name": "python",
   "nbconvert_exporter": "python",
   "pygments_lexer": "ipython3",
   "version": "3.9.7"
  }
 },
 "nbformat": 4,
 "nbformat_minor": 2
}
