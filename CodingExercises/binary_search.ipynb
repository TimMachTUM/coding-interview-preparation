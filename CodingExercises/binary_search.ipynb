{
 "cells": [
  {
   "cell_type": "markdown",
   "metadata": {},
   "source": [
    "# Binary Search\n",
    "## Binary Search Overview\n",
    "\n",
    "Binary search is an efficient algorithm for finding a target value within a sorted array. It works by repeatedly dividing in half the portion of the list that could contain the target value, thus reducing the search area by half each time.\n",
    "\n",
    "### How Binary Search Works\n",
    "\n",
    "1. **Initialize Variables**: Start with two pointers, `low` and `high`, representing the bounds of the segment of the array to be searched. Initially, `low` is set to the first index of the array, and `high` is set to the last index.\n",
    "\n",
    "2. **Calculate the Middle**: Find the middle element of the array segment. This is done by adding `low` and `high` and dividing by two. In programming, this is often done using integer division to avoid getting a fractional index.\n",
    "\n",
    "3. **Compare the Middle Element with the Target**:\n",
    "    - If the middle element is equal to the target, the search is complete.\n",
    "    - If the middle element is less than the target, move the `low` pointer to `middle + 1`, ignoring the left half of the array.\n",
    "    - If the middle element is greater than the target, move the `high` pointer to `middle - 1`, ignoring the right half of the array.\n",
    "\n",
    "4. **Repeat or Conclude**:\n",
    "    - Repeat the process as long as the `low` pointer does not exceed the `high` pointer.\n",
    "    - If at any point `low` exceeds `high`, the target is not in the array, and the search should return an indication of failure (e.g., `-1`).\n",
    "\n",
    "5. **Algorithm Efficiency**:\n",
    "    - The time complexity of binary search is $O(\\log n)$, where $n$ is the number of elements in the array. This makes binary search much more efficient than linear search for large datasets.\n",
    "\n",
    "6. **Requirements**:\n",
    "    - Binary search requires that the array is sorted. If the array is not sorted, the binary search algorithm cannot be directly applied.\n"
   ]
  },
  {
   "cell_type": "markdown",
   "metadata": {},
   "source": [
    "## Easy"
   ]
  },
  {
   "cell_type": "code",
   "execution_count": null,
   "metadata": {},
   "outputs": [],
   "source": [
    "# https://leetcode.com/problems/search-insert-position/description/\n",
    "class Solution:\n",
    "    def searchInsert(self, nums: List[int], target: int) -> int:\n",
    "        left = 0\n",
    "        right = len(nums) - 1\n",
    "        while left <= right:\n",
    "            mid = (left + right) // 2\n",
    "\n",
    "            if nums[mid] == target:\n",
    "                return mid\n",
    "            elif nums[mid] > target:\n",
    "                right = mid - 1\n",
    "            elif nums[mid] < target:\n",
    "                left = mid + 1\n",
    "        \n",
    "        if target < nums[mid]:\n",
    "            return mid\n",
    "        else:\n",
    "            return mid + 1"
   ]
  },
  {
   "cell_type": "markdown",
   "metadata": {},
   "source": [
    "## Medium"
   ]
  },
  {
   "cell_type": "code",
   "execution_count": null,
   "metadata": {},
   "outputs": [],
   "source": [
    "# https://leetcode.com/problems/two-sum-ii-input-array-is-sorted/description/\n",
    "class Solution:\n",
    "    def twoSum(self, numbers: List[int], target: int) -> List[int]:\n",
    "        n = len(numbers)\n",
    "        i = 0\n",
    "        j = n - 1\n",
    "        while i < j:\n",
    "            temp = numbers[i] + numbers[j]\n",
    "            if temp == target:\n",
    "                return [i + 1, j + 1]\n",
    "            elif temp < target:\n",
    "                i += 1\n",
    "            else:\n",
    "                j -= 1"
   ]
  },
  {
   "cell_type": "code",
   "execution_count": null,
   "metadata": {},
   "outputs": [],
   "source": [
    "# https://leetcode.com/problems/find-first-and-last-position-of-element-in-sorted-array/description/\n",
    "class Solution:\n",
    "    def searchRange(self, nums: List[int], target: int) -> List[int]:\n",
    "        l = 0\n",
    "        r = len(nums) - 1\n",
    "        while l <= r:\n",
    "            mid = l +(r-l)//2\n",
    "            if nums[l] == nums[r] == target:\n",
    "                return [l,r]\n",
    "            if nums[mid] < target:\n",
    "                l = mid + 1\n",
    "            elif nums[mid] > target:\n",
    "                r = mid - 1\n",
    "            elif nums[mid] == target:\n",
    "                l_l, r_l = l + 1, mid-1\n",
    "                if nums[l] == target:\n",
    "                    l_l = l\n",
    "                else: \n",
    "                    while l_l <= r_l:\n",
    "                        mid_l = l_l + (r_l - l_l)//2\n",
    "                        if nums[mid_l] < target:\n",
    "                            l_l = mid_l + 1\n",
    "                        else:\n",
    "                            r_l = mid_l - 1\n",
    "                l_r, r_r = mid + 1, r - 1\n",
    "                if nums[r]== target:\n",
    "                    r_r = r\n",
    "                else:\n",
    "                    while l_r <= r_r:\n",
    "                        mid_r = l_r + (r_r - l_r)//2\n",
    "                        if nums[mid_r] > target:\n",
    "                            r_r = mid_r - 1\n",
    "                        else:\n",
    "                            l_r = mid_r + 1\n",
    "                return [l_l, r_r]\n",
    "        return [-1,-1]"
   ]
  },
  {
   "cell_type": "markdown",
   "metadata": {},
   "source": [
    "## Hard"
   ]
  },
  {
   "cell_type": "code",
   "execution_count": null,
   "metadata": {},
   "outputs": [],
   "source": [
    "# https://leetcode.com/problems/median-of-two-sorted-arrays/\n",
    "class Solution:\n",
    "    def findMedianSortedArrays(self, nums1: List[int], nums2: List[int]) -> float:\n",
    "        if len(nums1) > len(nums2):\n",
    "            nums1, nums2 = nums2, nums1\n",
    "\n",
    "        x, y = len(nums1), len(nums2)\n",
    "\n",
    "        low, high = 0, x\n",
    "\n",
    "        while low <= high:\n",
    "            partitionX = (low + high) // 2\n",
    "            partitionY = (x + y + 1) // 2 - partitionX\n",
    "\n",
    "            maxX = float('-inf') if partitionX == 0 else nums1[partitionX - 1]\n",
    "            minX = float('inf') if partitionX == x else nums1[partitionX]\n",
    "\n",
    "            maxY = float('-inf') if partitionY == 0 else nums2[partitionY - 1]\n",
    "            minY = float('inf') if partitionY == y else nums2[partitionY]\n",
    "\n",
    "            if maxX <= minY and maxY <= minX:\n",
    "                if (x + y) % 2 == 0:\n",
    "                    return (max(maxX, maxY) + min(minX, minY)) / 2\n",
    "                else:\n",
    "                    return max(maxX, maxY)\n",
    "            elif maxX > minY:\n",
    "                high = partitionX - 1\n",
    "            else:\n",
    "                low = partitionX + 1"
   ]
  },
  {
   "cell_type": "code",
   "execution_count": null,
   "metadata": {},
   "outputs": [],
   "source": [
    "# https://leetcode.com/problems/maximum-score-of-a-good-subarray/\n",
    "class Solution:\n",
    "    def maximumScore(self, nums: List[int], k: int) -> int:\n",
    "        n = len(nums)\n",
    "        left = [0] * n\n",
    "        right = [n] * n\n",
    "        stack = []\n",
    "        maxScore = 0\n",
    "\n",
    "        # Find left boundaries\n",
    "        for i in range(n):\n",
    "            while stack and nums[stack[-1]] >= nums[i]:\n",
    "                stack.pop()\n",
    "            left[i] = stack[-1] + 1 if stack else 0\n",
    "            stack.append(i)\n",
    "\n",
    "        stack = []\n",
    "\n",
    "        # Find right boundaries\n",
    "        for i in range(n - 1, -1, -1):\n",
    "            while stack and nums[stack[-1]] >= nums[i]:\n",
    "                stack.pop()\n",
    "            right[i] = stack[-1] if stack else n\n",
    "            stack.append(i)\n",
    "\n",
    "        # Calculate scores and update maximum score\n",
    "        for i in range(n):\n",
    "            if left[i] <= k < right[i]:\n",
    "                maxScore = max(maxScore, nums[i] * (right[i] - left[i]))\n",
    "\n",
    "        return maxScore"
   ]
  }
 ],
 "metadata": {
  "kernelspec": {
   "display_name": "venv",
   "language": "python",
   "name": "python3"
  },
  "language_info": {
   "codemirror_mode": {
    "name": "ipython",
    "version": 3
   },
   "file_extension": ".py",
   "mimetype": "text/x-python",
   "name": "python",
   "nbconvert_exporter": "python",
   "pygments_lexer": "ipython3",
   "version": "3.9.7"
  }
 },
 "nbformat": 4,
 "nbformat_minor": 2
}
