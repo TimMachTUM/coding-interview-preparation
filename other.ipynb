{
 "cells": [
  {
   "cell_type": "markdown",
   "metadata": {},
   "source": [
    "# Other\n",
    "## Easy"
   ]
  },
  {
   "cell_type": "code",
   "execution_count": null,
   "metadata": {},
   "outputs": [],
   "source": [
    "import math\n",
    "\n",
    "# https://leetcode.com/problems/power-of-four/\n",
    "class Solution:\n",
    "    def isPowerOfFour(self, n: int) -> bool:\n",
    "        if n == 1:\n",
    "            return True\n",
    "        if n <= 0 or n % 4 != 0:\n",
    "            return False\n",
    "        l = math.log(n, 4)\n",
    "        return l == math.ceil(l)\n"
   ]
  },
  {
   "cell_type": "code",
   "execution_count": null,
   "metadata": {},
   "outputs": [],
   "source": [
    "# https://leetcode.com/problems/palindrome-number/submissions/1186630146/\n",
    "class Solution:\n",
    "    def isPalindrome(self, x: int) -> bool:\n",
    "        if x < 0:\n",
    "            return False\n",
    "        if x < 10:\n",
    "            return True\n",
    "        return str(x) == str(x)[::-1]"
   ]
  },
  {
   "cell_type": "code",
   "execution_count": null,
   "metadata": {},
   "outputs": [],
   "source": [
    "# https://leetcode.com/problems/longest-common-prefix/description/\n",
    "class Solution:\n",
    "    def longestCommonPrefix(self, strs: List[str]) -> str:\n",
    "        if not strs:\n",
    "            return \"\"\n",
    "        min_len = min(len(s) for s in strs)\n",
    "        prefix = \"\"\n",
    "        for i in range(min_len):\n",
    "            char = strs[0][i]\n",
    "            if all(s[i] == char for s in strs):\n",
    "                prefix += char\n",
    "            else:\n",
    "                break\n",
    "        return prefix"
   ]
  },
  {
   "cell_type": "code",
   "execution_count": null,
   "metadata": {},
   "outputs": [],
   "source": [
    "# https://leetcode.com/problems/roman-to-integer/description/\n",
    "class Solution:\n",
    "    def romanToInt(self, s: str) -> int:\n",
    "        roman_conversion = {'I': 1, 'V':5,'X':10,'L':50,'C':100,'D':500,'M':1000}\n",
    "        count = 0\n",
    "        for i in range(len(s)):\n",
    "            if i < len(s) - 1:\n",
    "                if roman_conversion[s[i]] < roman_conversion[s[i+1]]:\n",
    "                    count -= roman_conversion[s[i]]\n",
    "                else:\n",
    "                    count += roman_conversion[s[i]]\n",
    "            else:\n",
    "                count += roman_conversion[s[i]]\n",
    "\n",
    "        return count\n",
    "        "
   ]
  },
  {
   "cell_type": "code",
   "execution_count": null,
   "metadata": {},
   "outputs": [],
   "source": [
    "# https://leetcode.com/problems/find-the-index-of-the-first-occurrence-in-a-string/description/\n",
    "class Solution:\n",
    "    def strStr(self, haystack: str, needle: str) -> int:\n",
    "        n = len(needle)\n",
    "        h = len(haystack)\n",
    "        for i in range(h):\n",
    "            if i + n > h:\n",
    "                return -1\n",
    "            elif haystack[i:i+n] == needle:\n",
    "                return i\n",
    "        return -1"
   ]
  },
  {
   "cell_type": "code",
   "execution_count": null,
   "metadata": {},
   "outputs": [],
   "source": [
    "# https://leetcode.com/problems/length-of-last-word/description/\n",
    "class Solution:\n",
    "    def lengthOfLastWord(self, s: str) -> int:\n",
    "        return len(s.rstrip(' ').split(' ')[-1])"
   ]
  },
  {
   "cell_type": "code",
   "execution_count": null,
   "metadata": {},
   "outputs": [],
   "source": [
    "# https://leetcode.com/problems/power-of-two/description/\n",
    "class Solution:\n",
    "    def isPowerOfTwo(self, n: int) -> bool:\n",
    "        return n > 0 and (n&n-1) == 0"
   ]
  },
  {
   "cell_type": "markdown",
   "metadata": {},
   "source": [
    "## Medium"
   ]
  },
  {
   "cell_type": "code",
   "execution_count": null,
   "metadata": {},
   "outputs": [],
   "source": [
    "# https://leetcode.com/problems/zigzag-conversion/\n",
    "class Solution:\n",
    "    def convert(self, s: str, numRows: int) -> str:\n",
    "        if numRows==1:\n",
    "            return s\n",
    "        rows = [str(\"\")] * numRows\n",
    "        countAscending = True\n",
    "        counter = 0\n",
    "        for letter in s:\n",
    "            rows[counter] += letter\n",
    "            if countAscending:\n",
    "                counter = counter + 1\n",
    "                if (counter + 1) % numRows == 0:\n",
    "                    countAscending = False\n",
    "            else:\n",
    "                counter -= 1\n",
    "                if counter == 0:\n",
    "                    countAscending = True\n",
    "        return ''.join(rows)"
   ]
  },
  {
   "cell_type": "code",
   "execution_count": null,
   "metadata": {},
   "outputs": [],
   "source": [
    "# https://leetcode.com/problems/longest-substring-without-repeating-characters/\n",
    "class Solution:\n",
    "    def lengthOfLongestSubstring(self, s: str) -> int:\n",
    "        char_set = set()\n",
    "        i = j = max_length = 0\n",
    "        \n",
    "        while j < len(s):\n",
    "            if s[j] not in char_set:\n",
    "                char_set.add(s[j])\n",
    "                j += 1\n",
    "                max_length = max(max_length, j - i)\n",
    "            else:\n",
    "                char_set.remove(s[i])\n",
    "                i += 1\n",
    "                \n",
    "        return max_length"
   ]
  },
  {
   "cell_type": "code",
   "execution_count": null,
   "metadata": {},
   "outputs": [],
   "source": [
    "# https://leetcode.com/problems/longest-palindromic-substring/\n",
    "class Solution:\n",
    "    def longestPalindrome(self, s: str) -> str:\n",
    "        n = len(s)\n",
    "        if n == 0:\n",
    "            return ''\n",
    "        if s == 1:\n",
    "            return s[0]\n",
    "        for i in range(n, 1, -1):\n",
    "            for j in range(0,n-i+1):\n",
    "                if self.isPalindrome(s[j:j+i]):\n",
    "                    return s[j:j+i]\n",
    "        return s[0]\n",
    "\n",
    "\n",
    "    def isPalindrome(self, s:str) -> str:\n",
    "        return s == s[::-1]"
   ]
  },
  {
   "cell_type": "code",
   "execution_count": null,
   "metadata": {},
   "outputs": [],
   "source": [
    "# https://leetcode.com/problems/reverse-integer/description/\n",
    "class Solution:\n",
    "    def reverse(self, x: int) -> int:\n",
    "        if x < 0:\n",
    "            digits = str(-x)\n",
    "            digits = digits[::-1]\n",
    "            res = -int(digits)\n",
    "            if res < -2**31:\n",
    "                return 0\n",
    "            return res\n",
    "\n",
    "        digits = str(x)\n",
    "        digits = digits[::-1]\n",
    "        res = int(digits)\n",
    "        if res > 2**31 - 1:\n",
    "            return 0\n",
    "        return res"
   ]
  },
  {
   "cell_type": "code",
   "execution_count": null,
   "metadata": {},
   "outputs": [],
   "source": [
    "# https://leetcode.com/problems/string-to-integer-atoi/description/\n",
    "import re\n",
    "class Solution:\n",
    "    def myAtoi(self, s: str) -> int:\n",
    "        s = s.strip()\n",
    "        if re.search('^[0-9]|^[+-]', s) is None:\n",
    "            return 0\n",
    "\n",
    "        digits = ''\n",
    "        count_minus = 0\n",
    "        count_plus = 0\n",
    "        cutoff = len(s)\n",
    "        for i, digit in enumerate(s):\n",
    "            if re.search('[0-9]', digit) is not None:\n",
    "                digits += digit\n",
    "            elif digit == '-' and i == 0:\n",
    "                count_minus += 1\n",
    "            elif digit == '+' and i == 0:\n",
    "                count_plus += 1\n",
    "            else:\n",
    "                break\n",
    "        \n",
    "        if count_minus + count_plus > 1 or len(digits) == 0:\n",
    "            return 0\n",
    "        number = int(digits) if count_minus == 0 else int(digits) * -1\n",
    "        if number < -2**31:\n",
    "            return -2**31\n",
    "        if number > 2**31 - 1:\n",
    "            return 2**31 - 1\n",
    "        return number"
   ]
  },
  {
   "cell_type": "code",
   "execution_count": null,
   "metadata": {},
   "outputs": [],
   "source": [
    "# https://leetcode.com/problems/sequential-digits/description/\n",
    "class Solution:\n",
    "    def sequentialDigits(self, low: int, high: int) -> List[int]:\n",
    "        result = []\n",
    "        lower_threshold = low\n",
    "        while lower_threshold <= high:\n",
    "            low_str = str(lower_threshold)\n",
    "            highest_digit = int(low_str[0])\n",
    "            count_digits = len(low_str)\n",
    "            new_number = 0\n",
    "            skip_to_next_exponent = False\n",
    "            for i,v in enumerate(range(highest_digit, highest_digit + count_digits)):\n",
    "                if v > 9:\n",
    "                    skip_to_next_exponent = True\n",
    "                    break\n",
    "                new_number += v * 10**(count_digits - 1 - i)\n",
    "            \n",
    "            if skip_to_next_exponent:\n",
    "                lower_threshold = 10**count_digits\n",
    "            else:\n",
    "                lower_threshold = (highest_digit + 1) * 10**(count_digits-1)\n",
    "                if new_number <= high and new_number >= low:\n",
    "                    result.append(new_number)\n",
    "\n",
    "        return result"
   ]
  }
 ],
 "metadata": {
  "language_info": {
   "name": "python"
  }
 },
 "nbformat": 4,
 "nbformat_minor": 2
}
